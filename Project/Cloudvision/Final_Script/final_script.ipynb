{
 "cells": [
  {
   "cell_type": "markdown",
   "metadata": {},
   "source": [
    "# Import Libraries"
   ]
  },
  {
   "cell_type": "code",
   "execution_count": 1079,
   "metadata": {},
   "outputs": [],
   "source": [
    "import cv2\n",
    "import numpy as np\n",
    "from PIL import Image\n",
    "import matplotlib.pyplot as plt\n",
    "from IPython.display import Image\n",
    "from matplotlib import pyplot as plt\n",
    "import pandas as pd, numpy as np\n",
    "from google.cloud import vision\n",
    "import io\n",
    "import os, cv2\n",
    "from collections import Counter\n",
    "import sys\n",
    "import plotly.graph_objects as go"
   ]
  },
  {
   "cell_type": "markdown",
   "metadata": {},
   "source": [
    "# Define boxes around the equations"
   ]
  },
  {
   "cell_type": "code",
   "execution_count": 1080,
   "metadata": {},
   "outputs": [
    {
     "data": {
      "text/plain": [
       "True"
      ]
     },
     "execution_count": 1080,
     "metadata": {},
     "output_type": "execute_result"
    }
   ],
   "source": [
    "image=\"3\"\n",
    "\n",
    "img = cv2.imread(\"images/\"+image+\".JPG\")\n",
    "\n",
    "# convert to grayscale\n",
    "gray = cv2.cvtColor(img, cv2.COLOR_BGR2GRAY)\n",
    "\n",
    "# threshold\n",
    "thresh = cv2.threshold(gray, 0, 255, cv2.THRESH_BINARY+cv2.THRESH_OTSU)[1]\n",
    "\n",
    "# invert\n",
    "thresh = 255 - thresh\n",
    "\n",
    "# apply horizontal morphology close\n",
    "kernel = np.ones((100 ,10000), np.uint8)\n",
    "morph = cv2.morphologyEx(thresh, cv2.MORPH_CLOSE, kernel)\n",
    "\n",
    "# get external contours\n",
    "contours = cv2.findContours(morph, cv2.RETR_EXTERNAL, cv2.CHAIN_APPROX_SIMPLE)\n",
    "contours = contours[0] if len(contours) == 2 else contours[1]\n",
    "\n",
    "# draw contours\n",
    "result = img.copy()\n",
    "for cntr in contours:\n",
    "    # get bounding boxes\n",
    "    pad = 100\n",
    "    x,y,w,h = cv2.boundingRect(cntr)\n",
    "    cv2.rectangle(result, (x-pad, y-pad), (x+w+pad, y+h+pad), (0, 0, 255), 4)\n",
    "\n",
    "# save result\n",
    "cv2.imwrite(\"images/\"+image+\"_box.jpg\",result)"
   ]
  },
  {
   "cell_type": "markdown",
   "metadata": {},
   "source": [
    "# OCR with google API"
   ]
  },
  {
   "cell_type": "code",
   "execution_count": 1081,
   "metadata": {},
   "outputs": [],
   "source": [
    "#os.chdir(r\"/Users/pedroleal/Desktop/Ironhack/Final project/Project/Cloudvision/HandwritingRecognition_GoogleCloudVision/images\")"
   ]
  },
  {
   "cell_type": "code",
   "execution_count": 1082,
   "metadata": {},
   "outputs": [],
   "source": [
    "#\n",
    "\n",
    "#fileList = [x for x in os.listdir() if 'jpg'  in x.lower()]\n",
    "#fileList[:10]\n",
    "#image_use=1\n",
    "filename=\"images/\"+image+\"_box.jpg\"\n",
    "#Image(filename=filename, width = 300)\n"
   ]
  },
  {
   "cell_type": "code",
   "execution_count": 1083,
   "metadata": {},
   "outputs": [],
   "source": [
    "#Page segmentation\n",
    "\n",
    "def findHorizontalLines(img):\n",
    "    #img = cv2.imread(img) \n",
    "    img =result\n",
    "    #convert image to greyscale\n",
    "    gray = cv2.cvtColor(img,cv2.COLOR_BGR2GRAY)\n",
    "    \n",
    "    # set threshold to remove background noise\n",
    "    thresh = cv2.threshold(gray,30, 255, cv2.THRESH_BINARY_INV + cv2.THRESH_OTSU)[1]\n",
    "\n",
    "    \n",
    "    # define rectangle structure (line) to look for: width 100, hight 1. This is a \n",
    "    horizontal_kernel = cv2.getStructuringElement(cv2.MORPH_RECT, (200,1))\n",
    "    \n",
    "    # Find horizontal lines\n",
    "    lineLocations = cv2.morphologyEx(thresh, cv2.MORPH_OPEN, horizontal_kernel, iterations=1)\n",
    "    \n",
    "    return lineLocations\n",
    "\n",
    "lineLocations = findHorizontalLines(img)\n",
    "#plt.figure(figsize=(24,24))\n",
    "#plt.imshow(lineLocations, cmap='Greys')"
   ]
  },
  {
   "cell_type": "code",
   "execution_count": 1084,
   "metadata": {},
   "outputs": [],
   "source": [
    "img = result \n",
    "\n",
    "#convert image to greyscale\n",
    "gray = cv2.cvtColor(img,cv2.COLOR_BGR2GRAY)\n",
    "\n",
    "# set threshold to remove background noise\n",
    "thresh = cv2.threshold(gray,30, 255, cv2.THRESH_BINARY_INV + cv2.THRESH_OTSU)[1]\n",
    "\n",
    "\n",
    "# define rectangle structure (line) to look for: width 100, hight 1. This is a \n",
    "horizontal_kernel = cv2.getStructuringElement(cv2.MORPH_RECT, (500,1))\n",
    "\n",
    "# Find horizontal lines\n",
    "lineLocations = cv2.morphologyEx(thresh, cv2.MORPH_OPEN, horizontal_kernel, iterations=1)\n",
    "    \n",
    "\n",
    "\n",
    "#lineLocations = findHorizontalLines(img)\n",
    "#plt.figure(figsize=(24,24))\n",
    "#plt.imshow(lineLocations, cmap='Greys')"
   ]
  },
  {
   "cell_type": "code",
   "execution_count": 1085,
   "metadata": {},
   "outputs": [
    {
     "name": "stderr",
     "output_type": "stream",
     "text": [
      "<ipython-input-1085-bde6a9e0a013>:6: SettingWithCopyWarning:\n",
      "\n",
      "\n",
      "A value is trying to be set on a copy of a slice from a DataFrame\n",
      "\n",
      "See the caveats in the documentation: https://pandas.pydata.org/pandas-docs/stable/user_guide/indexing.html#returning-a-view-versus-a-copy\n",
      "\n"
     ]
    }
   ],
   "source": [
    "df_lineLocations = pd.DataFrame(lineLocations.sum(axis=1)).reset_index()\n",
    "df_lineLocations.columns = ['rowLoc', 'LineLength']\n",
    "df_lineLocations[df_lineLocations['LineLength'] > 50]\n",
    "\n",
    "df_lineLocations['line'] = 0\n",
    "df_lineLocations['line'][df_lineLocations['LineLength'] > 100] = 1\n",
    "\n",
    "df_lineLocations['cumSum'] = df_lineLocations['line'].cumsum()"
   ]
  },
  {
   "cell_type": "code",
   "execution_count": 1086,
   "metadata": {},
   "outputs": [],
   "source": [
    "import pandasql as ps\n",
    "\n",
    "query = '''\n",
    "select row_number() over (order by cumSum) as SegmentOrder\n",
    ", min(rowLoc) as SegmentStart\n",
    ", max(rowLoc) - min(rowLoc) as Height\n",
    "from df_lineLocations\n",
    "where line = 0\n",
    "--and CumSum !=0\n",
    "group by cumSum\n",
    "'''\n",
    "\n",
    "df_SegmentLocations  = ps.sqldf(query, locals())"
   ]
  },
  {
   "cell_type": "code",
   "execution_count": 1087,
   "metadata": {},
   "outputs": [],
   "source": [
    "def pageSegmentation1(img, w, df_SegmentLocations):\n",
    "    img = cv2.imread(img) \n",
    "    im2 = img.copy()\n",
    "    segments = []\n",
    "\n",
    "    for i in range(len(df_SegmentLocations)):\n",
    "        y = df_SegmentLocations['SegmentStart'][i]\n",
    "        h = df_SegmentLocations['Height'][i]\n",
    "\n",
    "        cropped = im2[y:y + h, 0:w] \n",
    "        segments.append(cropped)\n",
    "        #plt.figure(figsize=(8,8))\n",
    "        #plt.imshow(cropped)\n",
    "        #plt.title(str(i+1))        \n",
    "\n",
    "    return segments\n",
    "\n",
    "img = filename\n",
    "w = lineLocations.shape[1]\n",
    "segments = pageSegmentation1(img, w, df_SegmentLocations)"
   ]
  },
  {
   "cell_type": "code",
   "execution_count": 1088,
   "metadata": {},
   "outputs": [],
   "source": [
    "new_segments=[]\n",
    "\n",
    "for element in segments:\n",
    "    if len(np.unique(element))>150:\n",
    "        new_segments.append(element)\n",
    "\n",
    "segments=new_segments    "
   ]
  },
  {
   "cell_type": "code",
   "execution_count": 1089,
   "metadata": {},
   "outputs": [
    {
     "name": "stdout",
     "output_type": "stream",
     "text": [
      "Credendtials from environ: /Users/pedroleal/Desktop/Ironhack/Final project/Project/Cloudvision/HandwritingRecognition_GoogleCloudVision/my-key.json\n"
     ]
    }
   ],
   "source": [
    "os.environ[\"GOOGLE_APPLICATION_CREDENTIALS\"] = \"/Users/pedroleal/Desktop/Ironhack/Final project/Project/Cloudvision/HandwritingRecognition_GoogleCloudVision/my-key.json\"\n",
    "print('Credendtials from environ: {}'.format(os.environ.get('GOOGLE_APPLICATION_CREDENTIALS')))"
   ]
  },
  {
   "cell_type": "code",
   "execution_count": 1090,
   "metadata": {},
   "outputs": [],
   "source": [
    "def CloudVisionTextExtractor(handwritings):\n",
    "    # convert image from numpy to bytes for submittion to Google Cloud Vision\n",
    "    _, encoded_image = cv2.imencode('.png', handwritings)\n",
    "    content = encoded_image.tobytes()\n",
    "    #image = vision.types.Image(content=content)\n",
    "    image = vision.Image(content=content)\n",
    "    \n",
    "    # feed handwriting image segment to the Google Cloud Vision API\n",
    "    client = vision.ImageAnnotatorClient()\n",
    "    response = client.document_text_detection(image=image)\n",
    "    \n",
    "    return response\n",
    "\n",
    "def getTextFromVisionResponse(response):\n",
    "    texts = []\n",
    "    for page in response.full_text_annotation.pages:\n",
    "        for i, block in enumerate(page.blocks):  \n",
    "            for paragraph in block.paragraphs:       \n",
    "                for word in paragraph.words:\n",
    "                    word_text = ''.join([symbol.text for symbol in word.symbols])\n",
    "                    texts.append(word_text)\n",
    "\n",
    "    return ' '.join(texts)"
   ]
  },
  {
   "cell_type": "code",
   "execution_count": 1091,
   "metadata": {},
   "outputs": [
    {
     "data": {
      "text/plain": [
       "<matplotlib.image.AxesImage at 0x7f8cf19d76d0>"
      ]
     },
     "execution_count": 1091,
     "metadata": {},
     "output_type": "execute_result"
    },
    {
     "data": {
      "image/png": "[encoded data removed]",
      "text/plain": [
       "<Figure size 432x288 with 1 Axes>"
      ]
     },
     "metadata": {
      "needs_background": "light"
     },
     "output_type": "display_data"
    }
   ],
   "source": [
    "def most_frequent(List):\n",
    "    occurence_count = Counter(List)\n",
    "    return occurence_count.most_common(1)[0][0].replace(\" \",\"\")\n",
    "\n",
    "final_equations=[]\n",
    "\n",
    "\n",
    "for j in range(0,len(segments)):\n",
    "    \n",
    "    first_element=[]\n",
    "    second_element=[]\n",
    "    third_element=[]\n",
    "\n",
    "    for i in range(1,11):\n",
    "\n",
    "        kernel = np.ones((5, 5), np.uint8)\n",
    "        img_dilation = cv2.dilate(cv2.bitwise_not(segments[j]), kernel, iterations=i)\n",
    "        handwritings=cv2.bitwise_not(img_dilation)\n",
    "        response = CloudVisionTextExtractor(handwritings)\n",
    "        handwrittenText = getTextFromVisionResponse(response)\n",
    "        if len(handwrittenText.split(\"+\"))==1:\n",
    "            first_element.append(handwrittenText.split(\"+\")[0].strip().lower())\n",
    "            a=\"first\"\n",
    "        elif len(handwrittenText.split(\"+\"))==2:\n",
    "            first_element.append(handwrittenText.split(\"+\")[0].strip().lower())\n",
    "            second_element.append(handwrittenText.split(\"+\")[1].strip().lower())\n",
    "            a=\"second\"\n",
    "        elif len(handwrittenText.split(\"+\"))==3:\n",
    "            first_element.append(handwrittenText.split(\"+\")[0].strip().lower())\n",
    "            second_element.append(handwrittenText.split(\"+\")[1].strip().lower())\n",
    "            third_element.append(handwrittenText.split(\"+\")[2].strip().lower())\n",
    "            a=\"third\"\n",
    "\n",
    "        else: \"Program only works until functios with 3 variables\"\n",
    "\n",
    "    if a==\"first\":\n",
    "        final_equations.append(most_frequent(first_element))\n",
    "    elif a==\"second\":\n",
    "        final_equations.append(most_frequent(first_element)+\"+\"+most_frequent(second_element))\n",
    "    else: final_equations.append(most_frequent(first_element)+\"+\"+most_frequent(second_element)+\"+\"+most_frequent(third_element))\n",
    "\n",
    "plt.imshow(img_dilation)\n",
    "\n"
   ]
  },
  {
   "cell_type": "code",
   "execution_count": 1092,
   "metadata": {},
   "outputs": [
    {
     "data": {
      "text/plain": [
       "['35x+23y+40z=25', '5x+20y+42=50', '30x+15y+10z=80']"
      ]
     },
     "execution_count": 1092,
     "metadata": {},
     "output_type": "execute_result"
    }
   ],
   "source": [
    "while \"\" in final_equations:\n",
    "    final_equations.remove(\"\")\n",
    "    \n",
    "final_equations"
   ]
  },
  {
   "cell_type": "code",
   "execution_count": 1093,
   "metadata": {},
   "outputs": [],
   "source": [
    "numbers=[]\n",
    "coefs=[[]]*len(final_equations)\n",
    "\n",
    "import re\n",
    "\n",
    "for i in range(0,len(final_equations)):\n",
    "    el=final_equations[i].split(\"=\")\n",
    "    if el[0]==el[0].split(\"+\"):\n",
    "        numbers.append(re.findall(r'\\d+', el[0])[0])\n",
    "        a=el[1].split(\"+\")\n",
    "        a=\" \".join(a)\n",
    "        coefs[i]=re.findall(r'\\d+', a)\n",
    "        numbers[i]=re.findall(r'\\d+', numbers[i])\n",
    "        \n",
    "\n",
    "    else:\n",
    "        numbers.append(re.findall(r'\\d+', el[1])[0])\n",
    "        a=el[0].split(\"+\")\n",
    "        a=\" \".join(a)\n",
    "        coefs[i]=re.findall(r'\\d+', a)\n",
    "        \n",
    "        "
   ]
  },
  {
   "cell_type": "code",
   "execution_count": 1094,
   "metadata": {},
   "outputs": [],
   "source": [
    "if len(coefs)>len(numbers):\n",
    "    sys.exit(\"System underdeterminated. You have more unknowns than equations. You must have the same number.\")\n",
    "\n",
    "if len(numbers)>len(coefs):\n",
    "    sys.exit(\"System overdeterminated. You have more equations than unknowns. You must have the same number.\")"
   ]
  },
  {
   "cell_type": "code",
   "execution_count": 1095,
   "metadata": {},
   "outputs": [],
   "source": [
    "\n",
    "for i in range(0,len(numbers)):\n",
    "    numbers[i]=int(numbers[i])\n",
    "\n",
    "\n",
    "for i in range(0,len(coefs)):\n",
    "    for j in range(0,len(coefs)):\n",
    "        coefs[i][j]=int(coefs[i][j])\n",
    "\n"
   ]
  },
  {
   "cell_type": "code",
   "execution_count": 1096,
   "metadata": {},
   "outputs": [],
   "source": [
    "A = np.array(coefs)\n",
    "b = np.array(numbers)\n",
    "x = np.linalg.solve(A, b)"
   ]
  },
  {
   "cell_type": "code",
   "execution_count": 1097,
   "metadata": {},
   "outputs": [
    {
     "name": "stdout",
     "output_type": "stream",
     "text": [
      "The solution for the system of equations presented is: \n",
      " x= -2.56 \n",
      " y= 13.85 \n",
      " z= -5.10\n"
     ]
    }
   ],
   "source": [
    "if len(x)==1:\n",
    "    print(\"The solution for the system of equations presented is: \\n x= {:.2f}\".format(x[0]))\n",
    "if len(x)==2:\n",
    "    print(\"The solution for the system of equations presented is: \\n x= {:.2f} \\n y= {:.2f}\".format(x[0],x[1]))\n",
    "if len(x)==3:\n",
    "    print(\"The solution for the system of equations presented is: \\n x= {:.2f} \\n y= {:.2f} \\n z= {:.2f}\".format(x[0],x[1],x[2]))"
   ]
  },
  {
   "cell_type": "code",
   "execution_count": 1098,
   "metadata": {},
   "outputs": [
    {
     "data": {
      "image/png": "[encoded data removed]",
      "text/plain": [
       "<Figure size 432x288 with 1 Axes>"
      ]
     },
     "metadata": {
      "needs_background": "light"
     },
     "output_type": "display_data"
    },
    {
     "data": {
      "image/png": "[encoded data removed]",
      "text/plain": [
       "<Figure size 432x288 with 1 Axes>"
      ]
     },
     "metadata": {
      "needs_background": "light"
     },
     "output_type": "display_data"
    },
    {
     "data": {
      "image/png": "[encoded data removed]",
      "text/plain": [
       "<Figure size 432x288 with 1 Axes>"
      ]
     },
     "metadata": {
      "needs_background": "light"
     },
     "output_type": "display_data"
    },
    {
     "data": {
      "image/png": "[encoded data removed]",
      "text/plain": [
       "<Figure size 432x288 with 1 Axes>"
      ]
     },
     "metadata": {
      "needs_background": "light"
     },
     "output_type": "display_data"
    }
   ],
   "source": [
    "\n",
    "if len(x)==3:\n",
    "    # create the figure\n",
    "    fig = plt.figure()\n",
    "\n",
    "    a=5\n",
    "\n",
    "    xx, yy = np.meshgrid(range(round(x[0])-a,round(x[0])+a), range(round(x[1])-a,round(x[1])+a))\n",
    "\n",
    "    # add axes\n",
    "    ax = fig.add_subplot(111,projection='3d')\n",
    "\n",
    "    z = (numbers[0]- xx*coefs[0][0] - yy*coefs[0][1]) / coefs[0][2] \n",
    "\n",
    "    # plot the plane\n",
    "    ax.plot_surface(xx, yy, z, alpha=0.5)\n",
    "\n",
    "    z = (numbers[1]- xx*coefs[1][0] - yy*coefs[1][1]) / coefs[1][2] \n",
    "\n",
    "    # plot the plane\n",
    "    ax.plot_surface(xx, yy, z, alpha=0.5)\n",
    "\n",
    "    z = (numbers[2]- xx*coefs[2][0] - yy*coefs[2][1]) / coefs[2][2] \n",
    "\n",
    "    # plot the plane\n",
    "    ax.plot_surface(xx, yy, z, alpha=0.5)\n",
    "\n",
    "    ax.scatter3D(x[0], x[1], x[2],c=\"r\")\n",
    "\n",
    "    ax.set_xlabel(\"x\")\n",
    "    ax.set_ylabel(\"y\")\n",
    "    ax.set_zlabel(\"z\")\n",
    "\n",
    "    plt.show()\n",
    "\n",
    "\n",
    "    # create the figure\n",
    "    fig = plt.figure()\n",
    "\n",
    "    a=5\n",
    "\n",
    "    xx, yy = np.meshgrid(range(round(x[0])-a,round(x[0])+a), range(round(x[1])-a,round(x[1])+a))\n",
    "\n",
    "    # add axes\n",
    "    ax = fig.add_subplot(111,projection='3d')\n",
    "\n",
    "    z = (numbers[0]- xx*coefs[0][0] - yy*coefs[0][1]) / coefs[0][2] \n",
    "\n",
    "    # plot the plane\n",
    "    ax.plot_surface(xx, yy, z, alpha=0.5)\n",
    "\n",
    "    z = (numbers[1]- xx*coefs[1][0] - yy*coefs[1][1]) / coefs[1][2] \n",
    "\n",
    "    # plot the plane\n",
    "    ax.plot_surface(xx, yy, z, alpha=0.5)\n",
    "\n",
    "    z = (numbers[2]- xx*coefs[2][0] - yy*coefs[2][1]) / coefs[2][2] \n",
    "\n",
    "    # plot the plane\n",
    "    ax.plot_surface(xx, yy, z, alpha=0.5)\n",
    "\n",
    "    ax.scatter3D(x[0], x[1], x[2],c=\"r\")\n",
    "\n",
    "    ax.set_xlabel(\"x\")\n",
    "    ax.set_ylabel(\"y\")\n",
    "    ax.set_zlabel(\"z\")\n",
    "\n",
    "    ax.view_init(0, 0)\n",
    "    plt.show()\n",
    "\n",
    "    # create the figure\n",
    "    fig = plt.figure()\n",
    "\n",
    "    a=5\n",
    "\n",
    "    xx, yy = np.meshgrid(range(round(x[0])-a,round(x[0])+a), range(round(x[1])-a,round(x[1])+a))\n",
    "\n",
    "    # add axes\n",
    "    ax = fig.add_subplot(111,projection='3d')\n",
    "\n",
    "    z = (numbers[0]- xx*coefs[0][0] - yy*coefs[0][1]) / coefs[0][2] \n",
    "\n",
    "    # plot the plane\n",
    "    ax.plot_surface(xx, yy, z, alpha=0.5)\n",
    "\n",
    "    z = (numbers[1]- xx*coefs[1][0] - yy*coefs[1][1]) / coefs[1][2] \n",
    "\n",
    "    # plot the plane\n",
    "    ax.plot_surface(xx, yy, z, alpha=0.5)\n",
    "\n",
    "    z = (numbers[2]- xx*coefs[2][0] - yy*coefs[2][1]) / coefs[2][2] \n",
    "\n",
    "    # plot the plane\n",
    "    ax.plot_surface(xx, yy, z, alpha=0.5)\n",
    "\n",
    "    ax.scatter3D(x[0], x[1], x[2],c=\"r\")\n",
    "\n",
    "    ax.set_xlabel(\"x\")\n",
    "    ax.set_ylabel(\"y\")\n",
    "    ax.set_zlabel(\"z\")\n",
    "\n",
    "    ax.view_init(0, 90)\n",
    "    plt.show()\n",
    "\n",
    "    # create the figure\n",
    "    fig = plt.figure()\n",
    "\n",
    "    a=5\n",
    "\n",
    "    xx, yy = np.meshgrid(range(round(x[0])-a,round(x[0])+a), range(round(x[1])-a,round(x[1])+a))\n",
    "\n",
    "    # add axes\n",
    "    ax = fig.add_subplot(111,projection='3d')\n",
    "\n",
    "    z = (numbers[0]- xx*coefs[0][0] - yy*coefs[0][1]) / coefs[0][2] \n",
    "\n",
    "    # plot the plane\n",
    "    ax.plot_surface(xx, yy, z, alpha=0.5)\n",
    "\n",
    "    z = (numbers[1]- xx*coefs[1][0] - yy*coefs[1][1]) / coefs[1][2] \n",
    "\n",
    "    # plot the plane\n",
    "    ax.plot_surface(xx, yy, z, alpha=0.5)\n",
    "\n",
    "    z = (numbers[2]- xx*coefs[2][0] - yy*coefs[2][1]) / coefs[2][2] \n",
    "\n",
    "    # plot the plane\n",
    "    ax.plot_surface(xx, yy, z, alpha=0.5)\n",
    "\n",
    "    ax.scatter3D(x[0], x[1], x[2],c=\"r\")\n",
    "\n",
    "    ax.set_xlabel(\"x\")\n",
    "    ax.set_ylabel(\"y\")\n",
    "    ax.set_zlabel(\"z\")\n",
    "\n",
    "    ax.view_init(0, 45)\n",
    "    plt.show()\n",
    "\n",
    "if len(x)==2:\n",
    "\n",
    "    a=5\n",
    "    xx=np.arange(x[0]-a,x[0]+a)\n",
    "    yy=(numbers[0]-coefs[0][0]*xx)/coefs[0][1]\n",
    "    plt.plot(xx,yy)\n",
    "\n",
    "    xx=np.arange(x[1]-a,x[1]+a)\n",
    "    yy=(numbers[1]-coefs[1][0]*xx)/coefs[1][1]\n",
    "    plt.plot(xx,yy)\n",
    "\n",
    "    plt.scatter(x[0],x[1],c=\"r\")\n",
    "\n",
    "    plt.show()\n",
    "\n",
    "\n",
    "if len(x)==1:\n",
    "\n",
    "    \n",
    "    y=np.arange(x[0]-5,x[0]+5)\n",
    "    x=np.ones(len(y))*x[0]\n",
    "\n",
    "    plt.plot(x,y)\n",
    "    plt.show()"
   ]
  },
  {
   "cell_type": "code",
   "execution_count": 1117,
   "metadata": {},
   "outputs": [],
   "source": [
    "a=5\n",
    "xx= np.arange(round(x[0])-a,round(x[0])+a)\n",
    "yy = np.arange(round(x[0])-a,round(x[0])+a)\n",
    "\n",
    "z = (numbers[0]- xx*coefs[0][0] - yy*coefs[0][1]) / coefs[0][2] \n",
    "\n",
    "\n"
   ]
  },
  {
   "cell_type": "code",
   "execution_count": 1149,
   "metadata": {},
   "outputs": [
    {
     "data": {
      "application/vnd.plotly.v1+json": {
       "config": {
        "plotlyServerURL": "https://plot.ly"
       },
       "data": [
        {
         "type": "surface",
         "x": [
          -10,
          -9,
          -8,
          -7,
          -6,
          -5,
          -4,
          -3,
          -2,
          -1
         ],
         "y": [
          -10,
          -9,
          -8,
          -7,
          -6,
          -5,
          -4,
          -3,
          -2,
          -1
         ],
         "z": [
          [
           15.125,
           13.675,
           12.225,
           10.775,
           9.325,
           7.875,
           6.425,
           4.975,
           3.525,
           2.075
          ],
          [
           15.125,
           13.675,
           12.225,
           10.775,
           9.325,
           7.875,
           6.425,
           4.975,
           3.525,
           2.075
          ],
          [
           15.125,
           13.675,
           12.225,
           10.775,
           9.325,
           7.875,
           6.425,
           4.975,
           3.525,
           2.075
          ],
          [
           15.125,
           13.675,
           12.225,
           10.775,
           9.325,
           7.875,
           6.425,
           4.975,
           3.525,
           2.075
          ],
          [
           15.125,
           13.675,
           12.225,
           10.775,
           9.325,
           7.875,
           6.425,
           4.975,
           3.525,
           2.075
          ],
          [
           15.125,
           13.675,
           12.225,
           10.775,
           9.325,
           7.875,
           6.425,
           4.975,
           3.525,
           2.075
          ],
          [
           15.125,
           13.675,
           12.225,
           10.775,
           9.325,
           7.875,
           6.425,
           4.975,
           3.525,
           2.075
          ],
          [
           15.125,
           13.675,
           12.225,
           10.775,
           9.325,
           7.875,
           6.425,
           4.975,
           3.525,
           2.075
          ],
          [
           15.125,
           13.675,
           12.225,
           10.775,
           9.325,
           7.875,
           6.425,
           4.975,
           3.525,
           2.075
          ],
          [
           15.125,
           13.675,
           12.225,
           10.775,
           9.325,
           7.875,
           6.425,
           4.975,
           3.525,
           2.075
          ],
          [
           15.125,
           13.675,
           12.225,
           10.775,
           9.325,
           7.875,
           6.425,
           4.975,
           3.525,
           2.075
          ],
          [
           15.125,
           13.675,
           12.225,
           10.775,
           9.325,
           7.875,
           6.425,
           4.975,
           3.525,
           2.075
          ],
          [
           15.125,
           13.675,
           12.225,
           10.775,
           9.325,
           7.875,
           6.425,
           4.975,
           3.525,
           2.075
          ],
          [
           15.125,
           13.675,
           12.225,
           10.775,
           9.325,
           7.875,
           6.425,
           4.975,
           3.525,
           2.075
          ],
          [
           15.125,
           13.675,
           12.225,
           10.775,
           9.325,
           7.875,
           6.425,
           4.975,
           3.525,
           2.075
          ],
          [
           15.125,
           13.675,
           12.225,
           10.775,
           9.325,
           7.875,
           6.425,
           4.975,
           3.525,
           2.075
          ],
          [
           15.125,
           13.675,
           12.225,
           10.775,
           9.325,
           7.875,
           6.425,
           4.975,
           3.525,
           2.075
          ],
          [
           15.125,
           13.675,
           12.225,
           10.775,
           9.325,
           7.875,
           6.425,
           4.975,
           3.525,
           2.075
          ],
          [
           15.125,
           13.675,
           12.225,
           10.775,
           9.325,
           7.875,
           6.425,
           4.975,
           3.525,
           2.075
          ],
          [
           15.125,
           13.675,
           12.225,
           10.775,
           9.325,
           7.875,
           6.425,
           4.975,
           3.525,
           2.075
          ],
          [
           15.125,
           13.675,
           12.225,
           10.775,
           9.325,
           7.875,
           6.425,
           4.975,
           3.525,
           2.075
          ],
          [
           15.125,
           13.675,
           12.225,
           10.775,
           9.325,
           7.875,
           6.425,
           4.975,
           3.525,
           2.075
          ],
          [
           15.125,
           13.675,
           12.225,
           10.775,
           9.325,
           7.875,
           6.425,
           4.975,
           3.525,
           2.075
          ],
          [
           15.125,
           13.675,
           12.225,
           10.775,
           9.325,
           7.875,
           6.425,
           4.975,
           3.525,
           2.075
          ],
          [
           15.125,
           13.675,
           12.225,
           10.775,
           9.325,
           7.875,
           6.425,
           4.975,
           3.525,
           2.075
          ],
          [
           15.125,
           13.675,
           12.225,
           10.775,
           9.325,
           7.875,
           6.425,
           4.975,
           3.525,
           2.075
          ],
          [
           15.125,
           13.675,
           12.225,
           10.775,
           9.325,
           7.875,
           6.425,
           4.975,
           3.525,
           2.075
          ],
          [
           15.125,
           13.675,
           12.225,
           10.775,
           9.325,
           7.875,
           6.425,
           4.975,
           3.525,
           2.075
          ],
          [
           15.125,
           13.675,
           12.225,
           10.775,
           9.325,
           7.875,
           6.425,
           4.975,
           3.525,
           2.075
          ],
          [
           15.125,
           13.675,
           12.225,
           10.775,
           9.325,
           7.875,
           6.425,
           4.975,
           3.525,
           2.075
          ],
          [
           15.125,
           13.675,
           12.225,
           10.775,
           9.325,
           7.875,
           6.425,
           4.975,
           3.525,
           2.075
          ],
          [
           15.125,
           13.675,
           12.225,
           10.775,
           9.325,
           7.875,
           6.425,
           4.975,
           3.525,
           2.075
          ],
          [
           15.125,
           13.675,
           12.225,
           10.775,
           9.325,
           7.875,
           6.425,
           4.975,
           3.525,
           2.075
          ],
          [
           15.125,
           13.675,
           12.225,
           10.775,
           9.325,
           7.875,
           6.425,
           4.975,
           3.525,
           2.075
          ],
          [
           15.125,
           13.675,
           12.225,
           10.775,
           9.325,
           7.875,
           6.425,
           4.975,
           3.525,
           2.075
          ],
          [
           15.125,
           13.675,
           12.225,
           10.775,
           9.325,
           7.875,
           6.425,
           4.975,
           3.525,
           2.075
          ],
          [
           15.125,
           13.675,
           12.225,
           10.775,
           9.325,
           7.875,
           6.425,
           4.975,
           3.525,
           2.075
          ],
          [
           15.125,
           13.675,
           12.225,
           10.775,
           9.325,
           7.875,
           6.425,
           4.975,
           3.525,
           2.075
          ],
          [
           15.125,
           13.675,
           12.225,
           10.775,
           9.325,
           7.875,
           6.425,
           4.975,
           3.525,
           2.075
          ],
          [
           15.125,
           13.675,
           12.225,
           10.775,
           9.325,
           7.875,
           6.425,
           4.975,
           3.525,
           2.075
          ],
          [
           15.125,
           13.675,
           12.225,
           10.775,
           9.325,
           7.875,
           6.425,
           4.975,
           3.525,
           2.075
          ],
          [
           15.125,
           13.675,
           12.225,
           10.775,
           9.325,
           7.875,
           6.425,
           4.975,
           3.525,
           2.075
          ],
          [
           15.125,
           13.675,
           12.225,
           10.775,
           9.325,
           7.875,
           6.425,
           4.975,
           3.525,
           2.075
          ],
          [
           15.125,
           13.675,
           12.225,
           10.775,
           9.325,
           7.875,
           6.425,
           4.975,
           3.525,
           2.075
          ],
          [
           15.125,
           13.675,
           12.225,
           10.775,
           9.325,
           7.875,
           6.425,
           4.975,
           3.525,
           2.075
          ],
          [
           15.125,
           13.675,
           12.225,
           10.775,
           9.325,
           7.875,
           6.425,
           4.975,
           3.525,
           2.075
          ],
          [
           15.125,
           13.675,
           12.225,
           10.775,
           9.325,
           7.875,
           6.425,
           4.975,
           3.525,
           2.075
          ],
          [
           15.125,
           13.675,
           12.225,
           10.775,
           9.325,
           7.875,
           6.425,
           4.975,
           3.525,
           2.075
          ],
          [
           15.125,
           13.675,
           12.225,
           10.775,
           9.325,
           7.875,
           6.425,
           4.975,
           3.525,
           2.075
          ],
          [
           15.125,
           13.675,
           12.225,
           10.775,
           9.325,
           7.875,
           6.425,
           4.975,
           3.525,
           2.075
          ],
          [
           15.125,
           13.675,
           12.225,
           10.775,
           9.325,
           7.875,
           6.425,
           4.975,
           3.525,
           2.075
          ],
          [
           15.125,
           13.675,
           12.225,
           10.775,
           9.325,
           7.875,
           6.425,
           4.975,
           3.525,
           2.075
          ],
          [
           15.125,
           13.675,
           12.225,
           10.775,
           9.325,
           7.875,
           6.425,
           4.975,
           3.525,
           2.075
          ],
          [
           15.125,
           13.675,
           12.225,
           10.775,
           9.325,
           7.875,
           6.425,
           4.975,
           3.525,
           2.075
          ],
          [
           15.125,
           13.675,
           12.225,
           10.775,
           9.325,
           7.875,
           6.425,
           4.975,
           3.525,
           2.075
          ],
          [
           15.125,
           13.675,
           12.225,
           10.775,
           9.325,
           7.875,
           6.425,
           4.975,
           3.525,
           2.075
          ],
          [
           15.125,
           13.675,
           12.225,
           10.775,
           9.325,
           7.875,
           6.425,
           4.975,
           3.525,
           2.075
          ],
          [
           15.125,
           13.675,
           12.225,
           10.775,
           9.325,
           7.875,
           6.425,
           4.975,
           3.525,
           2.075
          ],
          [
           15.125,
           13.675,
           12.225,
           10.775,
           9.325,
           7.875,
           6.425,
           4.975,
           3.525,
           2.075
          ],
          [
           15.125,
           13.675,
           12.225,
           10.775,
           9.325,
           7.875,
           6.425,
           4.975,
           3.525,
           2.075
          ],
          [
           15.125,
           13.675,
           12.225,
           10.775,
           9.325,
           7.875,
           6.425,
           4.975,
           3.525,
           2.075
          ],
          [
           15.125,
           13.675,
           12.225,
           10.775,
           9.325,
           7.875,
           6.425,
           4.975,
           3.525,
           2.075
          ],
          [
           15.125,
           13.675,
           12.225,
           10.775,
           9.325,
           7.875,
           6.425,
           4.975,
           3.525,
           2.075
          ],
          [
           15.125,
           13.675,
           12.225,
           10.775,
           9.325,
           7.875,
           6.425,
           4.975,
           3.525,
           2.075
          ],
          [
           15.125,
           13.675,
           12.225,
           10.775,
           9.325,
           7.875,
           6.425,
           4.975,
           3.525,
           2.075
          ],
          [
           15.125,
           13.675,
           12.225,
           10.775,
           9.325,
           7.875,
           6.425,
           4.975,
           3.525,
           2.075
          ],
          [
           15.125,
           13.675,
           12.225,
           10.775,
           9.325,
           7.875,
           6.425,
           4.975,
           3.525,
           2.075
          ],
          [
           15.125,
           13.675,
           12.225,
           10.775,
           9.325,
           7.875,
           6.425,
           4.975,
           3.525,
           2.075
          ],
          [
           15.125,
           13.675,
           12.225,
           10.775,
           9.325,
           7.875,
           6.425,
           4.975,
           3.525,
           2.075
          ],
          [
           15.125,
           13.675,
           12.225,
           10.775,
           9.325,
           7.875,
           6.425,
           4.975,
           3.525,
           2.075
          ],
          [
           15.125,
           13.675,
           12.225,
           10.775,
           9.325,
           7.875,
           6.425,
           4.975,
           3.525,
           2.075
          ],
          [
           15.125,
           13.675,
           12.225,
           10.775,
           9.325,
           7.875,
           6.425,
           4.975,
           3.525,
           2.075
          ],
          [
           15.125,
           13.675,
           12.225,
           10.775,
           9.325,
           7.875,
           6.425,
           4.975,
           3.525,
           2.075
          ],
          [
           15.125,
           13.675,
           12.225,
           10.775,
           9.325,
           7.875,
           6.425,
           4.975,
           3.525,
           2.075
          ],
          [
           15.125,
           13.675,
           12.225,
           10.775,
           9.325,
           7.875,
           6.425,
           4.975,
           3.525,
           2.075
          ],
          [
           15.125,
           13.675,
           12.225,
           10.775,
           9.325,
           7.875,
           6.425,
           4.975,
           3.525,
           2.075
          ],
          [
           15.125,
           13.675,
           12.225,
           10.775,
           9.325,
           7.875,
           6.425,
           4.975,
           3.525,
           2.075
          ],
          [
           15.125,
           13.675,
           12.225,
           10.775,
           9.325,
           7.875,
           6.425,
           4.975,
           3.525,
           2.075
          ],
          [
           15.125,
           13.675,
           12.225,
           10.775,
           9.325,
           7.875,
           6.425,
           4.975,
           3.525,
           2.075
          ],
          [
           15.125,
           13.675,
           12.225,
           10.775,
           9.325,
           7.875,
           6.425,
           4.975,
           3.525,
           2.075
          ],
          [
           15.125,
           13.675,
           12.225,
           10.775,
           9.325,
           7.875,
           6.425,
           4.975,
           3.525,
           2.075
          ],
          [
           15.125,
           13.675,
           12.225,
           10.775,
           9.325,
           7.875,
           6.425,
           4.975,
           3.525,
           2.075
          ],
          [
           15.125,
           13.675,
           12.225,
           10.775,
           9.325,
           7.875,
           6.425,
           4.975,
           3.525,
           2.075
          ],
          [
           15.125,
           13.675,
           12.225,
           10.775,
           9.325,
           7.875,
           6.425,
           4.975,
           3.525,
           2.075
          ],
          [
           15.125,
           13.675,
           12.225,
           10.775,
           9.325,
           7.875,
           6.425,
           4.975,
           3.525,
           2.075
          ],
          [
           15.125,
           13.675,
           12.225,
           10.775,
           9.325,
           7.875,
           6.425,
           4.975,
           3.525,
           2.075
          ],
          [
           15.125,
           13.675,
           12.225,
           10.775,
           9.325,
           7.875,
           6.425,
           4.975,
           3.525,
           2.075
          ],
          [
           15.125,
           13.675,
           12.225,
           10.775,
           9.325,
           7.875,
           6.425,
           4.975,
           3.525,
           2.075
          ],
          [
           15.125,
           13.675,
           12.225,
           10.775,
           9.325,
           7.875,
           6.425,
           4.975,
           3.525,
           2.075
          ],
          [
           15.125,
           13.675,
           12.225,
           10.775,
           9.325,
           7.875,
           6.425,
           4.975,
           3.525,
           2.075
          ],
          [
           15.125,
           13.675,
           12.225,
           10.775,
           9.325,
           7.875,
           6.425,
           4.975,
           3.525,
           2.075
          ],
          [
           15.125,
           13.675,
           12.225,
           10.775,
           9.325,
           7.875,
           6.425,
           4.975,
           3.525,
           2.075
          ],
          [
           15.125,
           13.675,
           12.225,
           10.775,
           9.325,
           7.875,
           6.425,
           4.975,
           3.525,
           2.075
          ],
          [
           15.125,
           13.675,
           12.225,
           10.775,
           9.325,
           7.875,
           6.425,
           4.975,
           3.525,
           2.075
          ],
          [
           15.125,
           13.675,
           12.225,
           10.775,
           9.325,
           7.875,
           6.425,
           4.975,
           3.525,
           2.075
          ],
          [
           15.125,
           13.675,
           12.225,
           10.775,
           9.325,
           7.875,
           6.425,
           4.975,
           3.525,
           2.075
          ],
          [
           15.125,
           13.675,
           12.225,
           10.775,
           9.325,
           7.875,
           6.425,
           4.975,
           3.525,
           2.075
          ],
          [
           15.125,
           13.675,
           12.225,
           10.775,
           9.325,
           7.875,
           6.425,
           4.975,
           3.525,
           2.075
          ],
          [
           15.125,
           13.675,
           12.225,
           10.775,
           9.325,
           7.875,
           6.425,
           4.975,
           3.525,
           2.075
          ],
          [
           15.125,
           13.675,
           12.225,
           10.775,
           9.325,
           7.875,
           6.425,
           4.975,
           3.525,
           2.075
          ]
         ]
        }
       ],
       "layout": {
        "template": {
         "data": {
          "bar": [
           {
            "error_x": {
             "color": "#2a3f5f"
            },
            "error_y": {
             "color": "#2a3f5f"
            },
            "marker": {
             "line": {
              "color": "#E5ECF6",
              "width": 0.5
             },
             "pattern": {
              "fillmode": "overlay",
              "size": 10,
              "solidity": 0.2
             }
            },
            "type": "bar"
           }
          ],
          "barpolar": [
           {
            "marker": {
             "line": {
              "color": "#E5ECF6",
              "width": 0.5
             },
             "pattern": {
              "fillmode": "overlay",
              "size": 10,
              "solidity": 0.2
             }
            },
            "type": "barpolar"
           }
          ],
          "carpet": [
           {
            "aaxis": {
             "endlinecolor": "#2a3f5f",
             "gridcolor": "white",
             "linecolor": "white",
             "minorgridcolor": "white",
             "startlinecolor": "#2a3f5f"
            },
            "baxis": {
             "endlinecolor": "#2a3f5f",
             "gridcolor": "white",
             "linecolor": "white",
             "minorgridcolor": "white",
             "startlinecolor": "#2a3f5f"
            },
            "type": "carpet"
           }
          ],
          "choropleth": [
           {
            "colorbar": {
             "outlinewidth": 0,
             "ticks": ""
            },
            "type": "choropleth"
           }
          ],
          "contour": [
           {
            "colorbar": {
             "outlinewidth": 0,
             "ticks": ""
            },
            "colorscale": [
             [
              0,
              "#0d0887"
             ],
             [
              0.1111111111111111,
              "#46039f"
             ],
             [
              0.2222222222222222,
              "#7201a8"
             ],
             [
              0.3333333333333333,
              "#9c179e"
             ],
             [
              0.4444444444444444,
              "#bd3786"
             ],
             [
              0.5555555555555556,
              "#d8576b"
             ],
             [
              0.6666666666666666,
              "#ed7953"
             ],
             [
              0.7777777777777778,
              "#fb9f3a"
             ],
             [
              0.8888888888888888,
              "#fdca26"
             ],
             [
              1,
              "#f0f921"
             ]
            ],
            "type": "contour"
           }
          ],
          "contourcarpet": [
           {
            "colorbar": {
             "outlinewidth": 0,
             "ticks": ""
            },
            "type": "contourcarpet"
           }
          ],
          "heatmap": [
           {
            "colorbar": {
             "outlinewidth": 0,
             "ticks": ""
            },
            "colorscale": [
             [
              0,
              "#0d0887"
             ],
             [
              0.1111111111111111,
              "#46039f"
             ],
             [
              0.2222222222222222,
              "#7201a8"
             ],
             [
              0.3333333333333333,
              "#9c179e"
             ],
             [
              0.4444444444444444,
              "#bd3786"
             ],
             [
              0.5555555555555556,
              "#d8576b"
             ],
             [
              0.6666666666666666,
              "#ed7953"
             ],
             [
              0.7777777777777778,
              "#fb9f3a"
             ],
             [
              0.8888888888888888,
              "#fdca26"
             ],
             [
              1,
              "#f0f921"
             ]
            ],
            "type": "heatmap"
           }
          ],
          "heatmapgl": [
           {
            "colorbar": {
             "outlinewidth": 0,
             "ticks": ""
            },
            "colorscale": [
             [
              0,
              "#0d0887"
             ],
             [
              0.1111111111111111,
              "#46039f"
             ],
             [
              0.2222222222222222,
              "#7201a8"
             ],
             [
              0.3333333333333333,
              "#9c179e"
             ],
             [
              0.4444444444444444,
              "#bd3786"
             ],
             [
              0.5555555555555556,
              "#d8576b"
             ],
             [
              0.6666666666666666,
              "#ed7953"
             ],
             [
              0.7777777777777778,
              "#fb9f3a"
             ],
             [
              0.8888888888888888,
              "#fdca26"
             ],
             [
              1,
              "#f0f921"
             ]
            ],
            "type": "heatmapgl"
           }
          ],
          "histogram": [
           {
            "marker": {
             "pattern": {
              "fillmode": "overlay",
              "size": 10,
              "solidity": 0.2
             }
            },
            "type": "histogram"
           }
          ],
          "histogram2d": [
           {
            "colorbar": {
             "outlinewidth": 0,
             "ticks": ""
            },
            "colorscale": [
             [
              0,
              "#0d0887"
             ],
             [
              0.1111111111111111,
              "#46039f"
             ],
             [
              0.2222222222222222,
              "#7201a8"
             ],
             [
              0.3333333333333333,
              "#9c179e"
             ],
             [
              0.4444444444444444,
              "#bd3786"
             ],
             [
              0.5555555555555556,
              "#d8576b"
             ],
             [
              0.6666666666666666,
              "#ed7953"
             ],
             [
              0.7777777777777778,
              "#fb9f3a"
             ],
             [
              0.8888888888888888,
              "#fdca26"
             ],
             [
              1,
              "#f0f921"
             ]
            ],
            "type": "histogram2d"
           }
          ],
          "histogram2dcontour": [
           {
            "colorbar": {
             "outlinewidth": 0,
             "ticks": ""
            },
            "colorscale": [
             [
              0,
              "#0d0887"
             ],
             [
              0.1111111111111111,
              "#46039f"
             ],
             [
              0.2222222222222222,
              "#7201a8"
             ],
             [
              0.3333333333333333,
              "#9c179e"
             ],
             [
              0.4444444444444444,
              "#bd3786"
             ],
             [
              0.5555555555555556,
              "#d8576b"
             ],
             [
              0.6666666666666666,
              "#ed7953"
             ],
             [
              0.7777777777777778,
              "#fb9f3a"
             ],
             [
              0.8888888888888888,
              "#fdca26"
             ],
             [
              1,
              "#f0f921"
             ]
            ],
            "type": "histogram2dcontour"
           }
          ],
          "mesh3d": [
           {
            "colorbar": {
             "outlinewidth": 0,
             "ticks": ""
            },
            "type": "mesh3d"
           }
          ],
          "parcoords": [
           {
            "line": {
             "colorbar": {
              "outlinewidth": 0,
              "ticks": ""
             }
            },
            "type": "parcoords"
           }
          ],
          "pie": [
           {
            "automargin": true,
            "type": "pie"
           }
          ],
          "scatter": [
           {
            "fillpattern": {
             "fillmode": "overlay",
             "size": 10,
             "solidity": 0.2
            },
            "type": "scatter"
           }
          ],
          "scatter3d": [
           {
            "line": {
             "colorbar": {
              "outlinewidth": 0,
              "ticks": ""
             }
            },
            "marker": {
             "colorbar": {
              "outlinewidth": 0,
              "ticks": ""
             }
            },
            "type": "scatter3d"
           }
          ],
          "scattercarpet": [
           {
            "marker": {
             "colorbar": {
              "outlinewidth": 0,
              "ticks": ""
             }
            },
            "type": "scattercarpet"
           }
          ],
          "scattergeo": [
           {
            "marker": {
             "colorbar": {
              "outlinewidth": 0,
              "ticks": ""
             }
            },
            "type": "scattergeo"
           }
          ],
          "scattergl": [
           {
            "marker": {
             "colorbar": {
              "outlinewidth": 0,
              "ticks": ""
             }
            },
            "type": "scattergl"
           }
          ],
          "scattermapbox": [
           {
            "marker": {
             "colorbar": {
              "outlinewidth": 0,
              "ticks": ""
             }
            },
            "type": "scattermapbox"
           }
          ],
          "scatterpolar": [
           {
            "marker": {
             "colorbar": {
              "outlinewidth": 0,
              "ticks": ""
             }
            },
            "type": "scatterpolar"
           }
          ],
          "scatterpolargl": [
           {
            "marker": {
             "colorbar": {
              "outlinewidth": 0,
              "ticks": ""
             }
            },
            "type": "scatterpolargl"
           }
          ],
          "scatterternary": [
           {
            "marker": {
             "colorbar": {
              "outlinewidth": 0,
              "ticks": ""
             }
            },
            "type": "scatterternary"
           }
          ],
          "surface": [
           {
            "colorbar": {
             "outlinewidth": 0,
             "ticks": ""
            },
            "colorscale": [
             [
              0,
              "#0d0887"
             ],
             [
              0.1111111111111111,
              "#46039f"
             ],
             [
              0.2222222222222222,
              "#7201a8"
             ],
             [
              0.3333333333333333,
              "#9c179e"
             ],
             [
              0.4444444444444444,
              "#bd3786"
             ],
             [
              0.5555555555555556,
              "#d8576b"
             ],
             [
              0.6666666666666666,
              "#ed7953"
             ],
             [
              0.7777777777777778,
              "#fb9f3a"
             ],
             [
              0.8888888888888888,
              "#fdca26"
             ],
             [
              1,
              "#f0f921"
             ]
            ],
            "type": "surface"
           }
          ],
          "table": [
           {
            "cells": {
             "fill": {
              "color": "#EBF0F8"
             },
             "line": {
              "color": "white"
             }
            },
            "header": {
             "fill": {
              "color": "#C8D4E3"
             },
             "line": {
              "color": "white"
             }
            },
            "type": "table"
           }
          ]
         },
         "layout": {
          "annotationdefaults": {
           "arrowcolor": "#2a3f5f",
           "arrowhead": 0,
           "arrowwidth": 1
          },
          "autotypenumbers": "strict",
          "coloraxis": {
           "colorbar": {
            "outlinewidth": 0,
            "ticks": ""
           }
          },
          "colorscale": {
           "diverging": [
            [
             0,
             "#8e0152"
            ],
            [
             0.1,
             "#c51b7d"
            ],
            [
             0.2,
             "#de77ae"
            ],
            [
             0.3,
             "#f1b6da"
            ],
            [
             0.4,
             "#fde0ef"
            ],
            [
             0.5,
             "#f7f7f7"
            ],
            [
             0.6,
             "#e6f5d0"
            ],
            [
             0.7,
             "#b8e186"
            ],
            [
             0.8,
             "#7fbc41"
            ],
            [
             0.9,
             "#4d9221"
            ],
            [
             1,
             "#276419"
            ]
           ],
           "sequential": [
            [
             0,
             "#0d0887"
            ],
            [
             0.1111111111111111,
             "#46039f"
            ],
            [
             0.2222222222222222,
             "#7201a8"
            ],
            [
             0.3333333333333333,
             "#9c179e"
            ],
            [
             0.4444444444444444,
             "#bd3786"
            ],
            [
             0.5555555555555556,
             "#d8576b"
            ],
            [
             0.6666666666666666,
             "#ed7953"
            ],
            [
             0.7777777777777778,
             "#fb9f3a"
            ],
            [
             0.8888888888888888,
             "#fdca26"
            ],
            [
             1,
             "#f0f921"
            ]
           ],
           "sequentialminus": [
            [
             0,
             "#0d0887"
            ],
            [
             0.1111111111111111,
             "#46039f"
            ],
            [
             0.2222222222222222,
             "#7201a8"
            ],
            [
             0.3333333333333333,
             "#9c179e"
            ],
            [
             0.4444444444444444,
             "#bd3786"
            ],
            [
             0.5555555555555556,
             "#d8576b"
            ],
            [
             0.6666666666666666,
             "#ed7953"
            ],
            [
             0.7777777777777778,
             "#fb9f3a"
            ],
            [
             0.8888888888888888,
             "#fdca26"
            ],
            [
             1,
             "#f0f921"
            ]
           ]
          },
          "colorway": [
           "#636efa",
           "#EF553B",
           "#00cc96",
           "#ab63fa",
           "#FFA15A",
           "#19d3f3",
           "#FF6692",
           "#B6E880",
           "#FF97FF",
           "#FECB52"
          ],
          "font": {
           "color": "#2a3f5f"
          },
          "geo": {
           "bgcolor": "white",
           "lakecolor": "white",
           "landcolor": "#E5ECF6",
           "showlakes": true,
           "showland": true,
           "subunitcolor": "white"
          },
          "hoverlabel": {
           "align": "left"
          },
          "hovermode": "closest",
          "mapbox": {
           "style": "light"
          },
          "paper_bgcolor": "white",
          "plot_bgcolor": "#E5ECF6",
          "polar": {
           "angularaxis": {
            "gridcolor": "white",
            "linecolor": "white",
            "ticks": ""
           },
           "bgcolor": "#E5ECF6",
           "radialaxis": {
            "gridcolor": "white",
            "linecolor": "white",
            "ticks": ""
           }
          },
          "scene": {
           "xaxis": {
            "backgroundcolor": "#E5ECF6",
            "gridcolor": "white",
            "gridwidth": 2,
            "linecolor": "white",
            "showbackground": true,
            "ticks": "",
            "zerolinecolor": "white"
           },
           "yaxis": {
            "backgroundcolor": "#E5ECF6",
            "gridcolor": "white",
            "gridwidth": 2,
            "linecolor": "white",
            "showbackground": true,
            "ticks": "",
            "zerolinecolor": "white"
           },
           "zaxis": {
            "backgroundcolor": "#E5ECF6",
            "gridcolor": "white",
            "gridwidth": 2,
            "linecolor": "white",
            "showbackground": true,
            "ticks": "",
            "zerolinecolor": "white"
           }
          },
          "shapedefaults": {
           "line": {
            "color": "#2a3f5f"
           }
          },
          "ternary": {
           "aaxis": {
            "gridcolor": "white",
            "linecolor": "white",
            "ticks": ""
           },
           "baxis": {
            "gridcolor": "white",
            "linecolor": "white",
            "ticks": ""
           },
           "bgcolor": "#E5ECF6",
           "caxis": {
            "gridcolor": "white",
            "linecolor": "white",
            "ticks": ""
           }
          },
          "title": {
           "x": 0.05
          },
          "xaxis": {
           "automargin": true,
           "gridcolor": "white",
           "linecolor": "white",
           "ticks": "",
           "title": {
            "standoff": 15
           },
           "zerolinecolor": "white",
           "zerolinewidth": 2
          },
          "yaxis": {
           "automargin": true,
           "gridcolor": "white",
           "linecolor": "white",
           "ticks": "",
           "title": {
            "standoff": 15
           },
           "zerolinecolor": "white",
           "zerolinewidth": 2
          }
         }
        }
       }
      }
     },
     "metadata": {},
     "output_type": "display_data"
    }
   ],
   "source": [
    "\n",
    "import plotly.graph_objects as go\n",
    "import numpy as np\n",
    "\n",
    "\n",
    "plane = go.Surface(x=xx, y=yy, z=np.array([z] * len(x1)))\n",
    "\n",
    "figure = go.Figure()\n",
    "figure.add_traces([plane])\n",
    "figure.show()"
   ]
  }
 ],
 "metadata": {
  "kernelspec": {
   "display_name": "Python 3.8.8 ('base')",
   "language": "python",
   "name": "python3"
  },
  "language_info": {
   "codemirror_mode": {
    "name": "ipython",
    "version": 3
   },
   "file_extension": ".py",
   "mimetype": "text/x-python",
   "name": "python",
   "nbconvert_exporter": "python",
   "pygments_lexer": "ipython3",
   "version": "3.8.8"
  },
  "orig_nbformat": 4,
  "vscode": {
   "interpreter": {
    "hash": "40d3a090f54c6569ab1632332b64b2c03c39dcf918b08424e98f38b5ae0af88f"
   }
  }
 },
 "nbformat": 4,
 "nbformat_minor": 2
}
